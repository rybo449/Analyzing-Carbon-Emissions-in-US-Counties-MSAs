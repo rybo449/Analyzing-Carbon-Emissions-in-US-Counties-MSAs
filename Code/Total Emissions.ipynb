{
 "metadata": {
  "name": "",
  "signature": "sha256:25f6fa5a20d857eca02f17bc60a02316d21cc61416dca32ea59e817cfc7738a3"
 },
 "nbformat": 3,
 "nbformat_minor": 0,
 "worksheets": [
  {
   "cells": [
    {
     "cell_type": "code",
     "collapsed": false,
     "input": [
      "import pandas as pd\n",
      "import matplotlib.pyplot as plt\n",
      "import sys\n",
      "plt.style.use('bmh')\n",
      "print plt.style.available\n"
     ],
     "language": "python",
     "metadata": {},
     "outputs": [
      {
       "output_type": "stream",
       "stream": "stdout",
       "text": [
        "[u'grayscale', u'bmh', u'dark_background', u'ggplot', u'fivethirtyeight']\n"
       ]
      },
      {
       "output_type": "stream",
       "stream": "stderr",
       "text": [
        "/home/rybo/anaconda/lib/python2.7/site-packages/setuptools-5.8-py2.7.egg/pkg_resources.py:1032: UserWarning: /home/rybo/.python-eggs is writable by group/others and vulnerable to attack when used with get_resource_filename. Consider a more secure location (set with .set_extraction_path or the PYTHON_EGG_CACHE environment variable).\n"
       ]
      }
     ],
     "prompt_number": 1
    },
    {
     "cell_type": "code",
     "collapsed": false,
     "input": [
      "df = pd.read_csv('A4Data.csv')\n",
      "df['CO2 density'] = df['TOTAL CO2 IN MSA']/df['TOTAL POP IN MSA']*10000\n",
      "df1 = df[['POP DENSITY', 'TOTAL CO2 IN MSA', 'CO2/CAPITA', 'CO2 density', 'TOTAL POP IN MSA']]\n",
      "df1 = df1[(df1['TOTAL POP IN MSA'] > 100000)]\n",
      "\n",
      "print df1.head()\n"
     ],
     "language": "python",
     "metadata": {},
     "outputs": [
      {
       "output_type": "stream",
       "stream": "stdout",
       "text": [
        "   POP DENSITY  TOTAL CO2 IN MSA  CO2/CAPITA  CO2 density  TOTAL POP IN MSA\n",
        "0   138.216929          0.382555    0.000003     0.030228            126555\n",
        "1   176.287518          0.849188    0.000007     0.070284            120822\n",
        "2   271.735035          3.002046    0.000003     0.034286            875583\n",
        "3   119.928992          2.141536    0.000003     0.030047            712738\n",
        "4    95.525961          1.561100    0.000012     0.123566            126337\n"
       ]
      }
     ],
     "prompt_number": 2
    },
    {
     "cell_type": "code",
     "collapsed": false,
     "input": [
      "from sklearn.svm import SVR\n",
      "import numpy as np\n",
      "import statsmodels.api as sm\n",
      "print np.log(df1['TOTAL POP IN MSA']).head()\n",
      "#z = np. polyfit(df1['CO2 density'], np.log(df1['TOTAL POP IN MSA']),  3)\n",
      "\n",
      "z = np. polyfit(np.log(df1['POP DENSITY']), df1['TOTAL CO2 IN MSA'], 1)\n",
      "f = np.poly1d(z)\n",
      "#x_new = np.linspace(min(df1['CO2 density']), max(df1['CO2 density']), 100)\n",
      "\n",
      "x_new = np.linspace(min(np.log(df1['POP DENSITY'])), max(np.log(df1['POP DENSITY'])), 100)\n",
      "y_new = f(x_new)\n"
     ],
     "language": "python",
     "metadata": {},
     "outputs": [
      {
       "output_type": "stream",
       "stream": "stdout",
       "text": [
        "0    11.748432\n",
        "1    11.702074\n",
        "2    13.682645\n",
        "3    13.476869\n",
        "4    11.746708\n",
        "Name: TOTAL POP IN MSA, dtype: float64\n"
       ]
      }
     ],
     "prompt_number": 3
    },
    {
     "cell_type": "code",
     "collapsed": false,
     "input": [
      "from math import log\n",
      "plt.scatter(np.log(df1['POP DENSITY']), df1['TOTAL CO2 IN MSA'])#, '.b')\n",
      "\n",
      "plt.plot(np.log(df1['POP DENSITY']), df1['TOTAL CO2 IN MSA'], 'o', x_new,y_new)\n",
      "plt.title('Total Carbon Emissions with Increasing Population Densities of MSA')\n",
      "plt.xlabel('Population Density')\n",
      "plt.ylabel('Total CO2 emissions per MSA')\n",
      "plt.show()"
     ],
     "language": "python",
     "metadata": {},
     "outputs": [],
     "prompt_number": 4
    },
    {
     "cell_type": "code",
     "collapsed": false,
     "input": [],
     "language": "python",
     "metadata": {},
     "outputs": []
    }
   ],
   "metadata": {}
  }
 ]
}