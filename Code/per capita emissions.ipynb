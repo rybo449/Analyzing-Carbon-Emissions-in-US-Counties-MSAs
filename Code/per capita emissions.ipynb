{
 "metadata": {
  "name": "",
  "signature": "sha256:79bd15c0c2f48225aee91d75f88dae5b4086837d4ad0fb3bfb465ac066c9c887"
 },
 "nbformat": 3,
 "nbformat_minor": 0,
 "worksheets": [
  {
   "cells": [
    {
     "cell_type": "code",
     "collapsed": false,
     "input": [
      "import pandas as pd\n",
      "import matplotlib.pyplot as plt\n",
      "import sys\n",
      "plt.style.use('bmh')\n",
      "print plt.style.available\n"
     ],
     "language": "python",
     "metadata": {},
     "outputs": [
      {
       "output_type": "stream",
       "stream": "stdout",
       "text": [
        "[u'grayscale', u'bmh', u'dark_background', u'ggplot', u'fivethirtyeight']\n"
       ]
      }
     ],
     "prompt_number": 10
    },
    {
     "cell_type": "code",
     "collapsed": false,
     "input": [
      "df = pd.read_csv('final.csv')\n",
      "df['CO2 density'] = df['TOTAL CO2 IN MSA']/df['TOTAL POP IN MSA']*1000000\n",
      "\n",
      "df1 = df[['POP DENSITY', 'TOTAL CO2 IN MSA', 'CO2/CAPITA', 'CO2 density', 'TOTAL POP IN MSA']]\n",
      "df1 = df1[(df1['TOTAL POP IN MSA'] > 100000)]\n",
      "#print df.sort(['CO2 density'])['MSA NAME'].tail(100)\n",
      "print df.head(50)\n"
     ],
     "language": "python",
     "metadata": {},
     "outputs": [
      {
       "output_type": "stream",
       "stream": "stdout",
       "text": [
        "                                      MSA NAME  TOTAL POP IN MSA  \\\n",
        "0                              Abilene, TX MSA            126555   \n",
        "1                               Albany, GA MSA            120822   \n",
        "2            Albany--Schenectady--Troy, NY MSA            875583   \n",
        "3                          Albuquerque, NM MSA            712738   \n",
        "4                           Alexandria, LA MSA            126337   \n",
        "5         Allentown--Bethlehem--Easton, PA MSA            637958   \n",
        "6                              Altoona, PA MSA            129144   \n",
        "7                             Amarillo, TX MSA            217858   \n",
        "8                            Anchorage, AK MSA            260283   \n",
        "9                             Anniston, AL MSA            112249   \n",
        "10           Appleton--Oshkosh--Neenah, WI MSA            358365   \n",
        "11                           Asheville, NC MSA            246543   \n",
        "12                              Athens, GA MSA            153444   \n",
        "13                             Atlanta, GA MSA           4112198   \n",
        "14                     Auburn--Opelika, AL MSA            115092   \n",
        "15                  Augusta--Aiken, GA--SC MSA            475456   \n",
        "16                  Austin--San Marcos, TX MSA           1228129   \n",
        "17                         Bakersfield, CA MSA            661645   \n",
        "18                         Baton Rouge, LA MSA            668031   \n",
        "19               Beaumont--Port Arthur, TX MSA            158992   \n",
        "20                          Bellingham, WA MSA            166814   \n",
        "21                       Benton Harbor, MI MSA            162453   \n",
        "22                            Billings, MT MSA            129352   \n",
        "23        Biloxi--Gulfport--Pascagoula, MS MSA            887448   \n",
        "24                          Binghamton, NY MSA            252320   \n",
        "25                          Birmingham, AL MSA            921106   \n",
        "26                            Bismarck, ND MSA             94719   \n",
        "27                         Bloomington, IN MSA            120563   \n",
        "28                 Bloomington--Normal, IL MSA            150433   \n",
        "29                          Boise City, ID MSA            432345   \n",
        "30  Brownsville--Harlingen--San Benito, TX MSA              9991   \n",
        "31              Bryan--College Station, TX MSA            152415   \n",
        "32              Buffalo--Niagara Falls, NY MSA           1170111   \n",
        "33                   Canton--Massillon, OH MSA            406934   \n",
        "34                              Casper, WY MSA             66533   \n",
        "35                        Cedar Rapids, IA MSA            191701   \n",
        "36                   Champaign--Urbana, IL MSA            179669   \n",
        "37                          Charleston, WV MSA            251662   \n",
        "38        Charleston--North Charleston, SC MSA            549033   \n",
        "39  Charlotte--Gastonia--Rock Hill, NC--SC MSA           1442925   \n",
        "40                     Charlottesville, VA MSA            159576   \n",
        "41                     Chattanooga, TN--GA MSA            465161   \n",
        "42                            Cheyenne, WY MSA             81607   \n",
        "43                     Chico--Paradise, CA MSA            203171   \n",
        "44       Clarksville--Hopkinsville, TN--KY MSA            207033   \n",
        "45                    Colorado Springs, CO MSA            516929   \n",
        "46                            Columbia, MO MSA            135454   \n",
        "47                            Columbia, SC MSA             24791   \n",
        "48                        Columbus, GA--AL MSA            274624   \n",
        "49                            Columbus, OH MSA           1591781   \n",
        "\n",
        "    TOTAL CO2 IN MSA  TOTAL LAND IN MSA  POP DENSITY  CO2/CAPITA  CO2 density  \n",
        "0           0.382555           915.6259   138.216929    0.000003     3.022838  \n",
        "1           0.849188           685.3690   176.287518    0.000007     7.028424  \n",
        "2           3.002046          3222.1940   271.735035    0.000003     3.428626  \n",
        "3           2.141536          5943.0000   119.928992    0.000003     3.004661  \n",
        "4           1.561100          1322.5410    95.525961    0.000012    12.356635  \n",
        "5          11.039413          1101.4960   579.174141    0.000017    17.304295  \n",
        "6           0.415941           525.8023   245.613228    0.000003     3.220754  \n",
        "7           3.219206          1823.6750   119.460979    0.000015    14.776624  \n",
        "8           1.929370          1697.2150   153.358885    0.000007     7.412586  \n",
        "9           0.466963           608.4614   184.480067    0.000004     4.160062  \n",
        "10          1.793245          1398.7640   256.201189    0.000005     5.003961  \n",
        "11          1.259583          1105.4100   223.033083    0.000005     5.108979  \n",
        "12          0.506563           590.3757   259.909071    0.000003     3.301287  \n",
        "13         21.083470          6123.7990   671.510936    0.000005     5.127056  \n",
        "14          0.416118           608.7103   189.075164    0.000004     3.615523  \n",
        "15          2.135730          2448.3810   194.191999    0.000004     4.491962  \n",
        "16          4.359559          4224.0200   290.748860    0.000004     3.549757  \n",
        "17          4.937148          8140.9640    81.273545    0.000007     7.461929  \n",
        "18          9.258755          1586.1820   421.156589    0.000014    13.859769  \n",
        "19          6.596488          2154.2820    73.802780    0.000041    41.489435  \n",
        "20          0.737122          2119.5330    78.703186    0.000004     4.418825  \n",
        "21          0.528084           570.9998   284.506229    0.000003     3.250690  \n",
        "22          1.392779          2635.1540    49.087074    0.000011    10.767357  \n",
        "23          4.572204          1784.7590   497.236882    0.000005     5.152081  \n",
        "24          1.020024          1225.5150   205.888953    0.000004     4.042579  \n",
        "25         11.731820          3186.6390   289.052510    0.000013    12.736667  \n",
        "26          0.518715          3559.3560    26.611275    0.000005     5.476358  \n",
        "27          0.320879           394.3462   305.728824    0.000003     2.661504  \n",
        "28          0.563719          1183.5270   127.105677    0.000004     3.747311  \n",
        "29          1.388523          1644.7090   262.870210    0.000003     3.211609  \n",
        "30          0.589178           905.7567    11.030556    0.000059    58.970921  \n",
        "31          0.465729           585.7798   260.191628    0.000003     3.055665  \n",
        "32          6.111840          1567.1580   746.645201    0.000005     5.223300  \n",
        "33          1.048663           970.8093   419.169862    0.000003     2.576985  \n",
        "34          0.403969          5339.8820    12.459639    0.000006     6.071705  \n",
        "35          1.136002           717.4424   267.200545    0.000006     5.925905  \n",
        "36          0.655053           996.8060   180.244702    0.000004     3.645888  \n",
        "37          5.923797          1249.3310   201.437409    0.000024    23.538702  \n",
        "38          5.946698          2590.9540   211.903801    0.000011    10.831222  \n",
        "39          6.321253          3376.8050   427.304804    0.000004     4.380860  \n",
        "40          0.967476          1176.8190   135.599442    0.000006     6.062791  \n",
        "41          1.970171          1823.5820   255.080934    0.000004     4.235461  \n",
        "42          0.664243          2686.0520    30.381765    0.000008     8.139532  \n",
        "43          0.387643          1639.4880   123.923444    0.000002     1.907964  \n",
        "44          0.554943          1260.5920   164.234741    0.000003     2.680455  \n",
        "45          2.349105          2126.4490   243.094944    0.000005     4.544348  \n",
        "46          0.522967           685.4301   197.618984    0.000004     3.860842  \n",
        "47          3.009017          1455.6670    17.030681    0.000121   121.375377  \n",
        "48          0.730839          1570.0370   174.915623    0.000003     2.661235  \n",
        "49          4.470274          3141.2430   506.736028    0.000003     2.808347  \n"
       ]
      }
     ],
     "prompt_number": 11
    },
    {
     "cell_type": "code",
     "collapsed": false,
     "input": [
      "from sklearn.svm import SVR\n",
      "import numpy as np\n",
      "import statsmodels.api as sm\n",
      "print np.log(df1['TOTAL POP IN MSA']).head()\n",
      "#z = np. polyfit(df1['CO2 density'], np.log(df1['TOTAL POP IN MSA']),  3)\n",
      "\n",
      "z = np. polyfit(np.log(df1['POP DENSITY']), df1['CO2 density'], 1)\n",
      "f = np.poly1d(z)\n",
      "#x_new = np.linspace(min(df1['CO2 density']), max(df1['CO2 density']), 100)\n",
      "\n",
      "x_new = np.linspace(min(np.log(df1['POP DENSITY'])), max(np.log(df1['POP DENSITY'])), 100)\n",
      "y_new = f(x_new)"
     ],
     "language": "python",
     "metadata": {},
     "outputs": [
      {
       "output_type": "stream",
       "stream": "stdout",
       "text": [
        "0    11.748432\n",
        "1    11.702074\n",
        "2    13.682645\n",
        "3    13.476869\n",
        "4    11.746708\n",
        "Name: TOTAL POP IN MSA, dtype: float64\n"
       ]
      }
     ],
     "prompt_number": 16
    },
    {
     "cell_type": "code",
     "collapsed": false,
     "input": [
      "from math import log\n",
      "plt.scatter(np.log(df1['POP DENSITY']), df1['CO2 density'])#, '.b')\n",
      "\n",
      "plt.plot(np.log(df1['POP DENSITY']), df1['CO2 density'], 'o', x_new,y_new)\n",
      "plt.title('Plot of Carbon Emissions as Population Density of the MSA Increases')\n",
      "plt.xlabel('LOG Population Density')\n",
      "plt.ylabel('CO2 emission per person')\n",
      "plt.show()"
     ],
     "language": "python",
     "metadata": {},
     "outputs": [],
     "prompt_number": 18
    },
    {
     "cell_type": "code",
     "collapsed": false,
     "input": [],
     "language": "python",
     "metadata": {},
     "outputs": [],
     "prompt_number": 4
    },
    {
     "cell_type": "code",
     "collapsed": false,
     "input": [],
     "language": "python",
     "metadata": {},
     "outputs": [],
     "prompt_number": 4
    }
   ],
   "metadata": {}
  }
 ]
}