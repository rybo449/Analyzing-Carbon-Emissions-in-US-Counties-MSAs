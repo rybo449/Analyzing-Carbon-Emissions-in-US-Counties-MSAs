{
 "metadata": {
  "name": "",
  "signature": "sha256:ec59ca11e4b5cee44c2ea666141ba51f26e0acff986d6c911f978ff7a9a9b8d9"
 },
 "nbformat": 3,
 "nbformat_minor": 0,
 "worksheets": [
  {
   "cells": [
    {
     "cell_type": "code",
     "collapsed": false,
     "input": [
      "import pandas as pd\n",
      "import matplotlib.pyplot as plt\n",
      "import sys\n",
      "plt.style.use('bmh')\n",
      "print plt.style.available\n"
     ],
     "language": "python",
     "metadata": {},
     "outputs": [
      {
       "output_type": "stream",
       "stream": "stdout",
       "text": [
        "[u'grayscale', u'bmh', u'dark_background', u'ggplot', u'fivethirtyeight']\n"
       ]
      }
     ],
     "prompt_number": 25
    },
    {
     "cell_type": "code",
     "collapsed": false,
     "input": [
      "df = pd.read_csv('A4Data.csv')\n",
      "import numpy as np\n",
      "df['CO2 density'] = df['TOTAL CO2 IN MSA']/df['TOTAL POP IN MSA']*1000000\n",
      "df1 = df[(df['TOTAL POP IN MSA'] > 100000)]\n",
      "#df1 = df[['POP DENSITY', 'TOTAL CO2 IN MSA', 'CO2/CAPITA', 'CO2 density', 'TOTAL POP IN MSA']]\n",
      "#low , high = 4, 5\n",
      "#df1 = df1[(np.log(df1['POP DENSITY']) > low) & (np.log(df1['POP DENSITY'])< high)]\n",
      "#print df1['MSA NAME']\n",
      "#print df.sort(['CO2 density'])['MSA NAME'].tail(100)\n",
      "#print df.head(50)\n"
     ],
     "language": "python",
     "metadata": {},
     "outputs": [
      {
       "output_type": "stream",
       "stream": "stdout",
       "text": [
        "0                   Abilene, TX MSA\n",
        "3               Albuquerque, NM MSA\n",
        "4                Alexandria, LA MSA\n",
        "7                  Amarillo, TX MSA\n",
        "17              Bakersfield, CA MSA\n",
        "19    Beaumont--Port Arthur, TX MSA\n",
        "20               Bellingham, WA MSA\n",
        "28      Bloomington--Normal, IL MSA\n",
        "40          Charlottesville, VA MSA\n",
        "43          Chico--Paradise, CA MSA\n",
        "52           Cumberland, MD--WV MSA\n",
        "53                 Danville, VA MSA\n",
        "57                  Decatur, AL MSA\n",
        "60                   Dothan, AL MSA\n",
        "64               Eau Claire, WI MSA\n",
        "...\n",
        "208                  Sioux City, IA--NE MSA\n",
        "209                     Sioux Falls, SD MSA\n",
        "214                       St. Cloud, MN MSA\n",
        "215                      St. Joseph, MO MSA\n",
        "217                   State College, PA MSA\n",
        "224                     Terre Haute, IN MSA\n",
        "225        Texarkana, TX--Texarkana, AR MSA\n",
        "228                          Tucson, AZ MSA\n",
        "230                      Tuscaloosa, AL MSA\n",
        "232                     Utica--Rome, NY MSA\n",
        "234    Visalia--Tulare--Porterville, CA MSA\n",
        "237                          Wausau, WI MSA\n",
        "240                   Wichita Falls, TX MSA\n",
        "242                    Williamsport, PA MSA\n",
        "247                       Yuba City, CA MSA\n",
        "Name: MSA NAME, Length: 63, dtype: object\n"
       ]
      }
     ],
     "prompt_number": 40
    },
    {
     "cell_type": "code",
     "collapsed": false,
     "input": [
      "from sklearn.svm import SVR\n",
      "import numpy as np\n",
      "import statsmodels.api as sm\n",
      "print np.log(df1['TOTAL POP IN MSA']).head()\n",
      "#z = np. polyfit(df1['CO2 density'], np.log(df1['TOTAL POP IN MSA']),  3)\n",
      "\n",
      "z = np. polyfit(np.log(df1['POP DENSITY']), df1['CO2 density'], 2)\n",
      "f = np.poly1d(z)\n",
      "#x_new = np.linspace(min(df1['CO2 density']), max(df1['CO2 density']), 100)\n",
      "\n",
      "x_new = np.linspace(min(np.log(df1['POP DENSITY'])), max(np.log(df1['POP DENSITY'])), 100)\n",
      "y_new = f(x_new)"
     ],
     "language": "python",
     "metadata": {},
     "outputs": [
      {
       "output_type": "stream",
       "stream": "stdout",
       "text": [
        "0     11.748432\n",
        "3     13.476869\n",
        "4     11.746708\n",
        "7     12.291599\n",
        "17    13.402484\n",
        "Name: TOTAL POP IN MSA, dtype: float64\n"
       ]
      }
     ],
     "prompt_number": 41
    },
    {
     "cell_type": "code",
     "collapsed": false,
     "input": [
      "from math import log\n",
      "plt.scatter(np.log(df1['POP DENSITY']), df1['CO2 density'])#, '.b')\n",
      "\n",
      "plt.plot(np.log(df1['POP DENSITY']), df1['CO2 density'], 'o', x_new,y_new)\n",
      "plt.title('Plot of Carbon Emissions as Population Density of the MSA Increases')\n",
      "plt.xlabel('LOG Population Density')\n",
      "plt.ylabel('CO2 emission per person')\n",
      "plt.show()"
     ],
     "language": "python",
     "metadata": {},
     "outputs": [],
     "prompt_number": 42
    },
    {
     "cell_type": "code",
     "collapsed": false,
     "input": [],
     "language": "python",
     "metadata": {},
     "outputs": [],
     "prompt_number": 39
    },
    {
     "cell_type": "code",
     "collapsed": false,
     "input": [],
     "language": "python",
     "metadata": {},
     "outputs": [],
     "prompt_number": 4
    }
   ],
   "metadata": {}
  }
 ]
}