{
 "metadata": {
  "name": "",
  "signature": "sha256:1fc57a248d2a1919670be18abdd1286050f5e1579862db8c3529a0a39e28079f"
 },
 "nbformat": 3,
 "nbformat_minor": 0,
 "worksheets": [
  {
   "cells": [
    {
     "cell_type": "code",
     "collapsed": false,
     "input": [
      "import pandas as pd\n",
      "import matplotlib.pyplot as plt\n",
      "import sys\n",
      "plt.style.use('bmh')\n",
      "print plt.style.available\n"
     ],
     "language": "python",
     "metadata": {},
     "outputs": [
      {
       "output_type": "stream",
       "stream": "stdout",
       "text": [
        "[u'grayscale', u'bmh', u'dark_background', u'ggplot', u'fivethirtyeight']\n"
       ]
      }
     ],
     "prompt_number": 25
    },
    {
     "cell_type": "code",
     "collapsed": false,
     "input": [
      "df = pd.read_csv('A4Data.csv')\n",
      "import numpy as np\n",
      "df['CO2 density'] = df['TOTAL CO2 IN MSA']/df['TOTAL POP IN MSA']*1000000\n",
      "df1 = df[(df['TOTAL POP IN MSA'] > 100000)]\n",
      "print df['MSA NAME'][np.log(df['POP DENSITY'])>6.9]"
     ],
     "language": "python",
     "metadata": {},
     "outputs": [
      {
       "output_type": "stream",
       "stream": "stdout",
       "text": [
        "100                                     Honolulu, HI MSA\n",
        "161                                        New York City\n",
        "162    Norfolk--Virginia Beach--Newport News, VA--NC MSA\n",
        "Name: MSA NAME, dtype: object\n"
       ]
      }
     ],
     "prompt_number": 59
    },
    {
     "cell_type": "code",
     "collapsed": false,
     "input": [
      "from sklearn.svm import SVR\n",
      "import numpy as np\n",
      "import statsmodels.api as sm\n",
      "print np.log(df1['TOTAL POP IN MSA']).head()\n",
      "#z = np. polyfit(df1['CO2 density'], np.log(df1['TOTAL POP IN MSA']),  3)\n",
      "\n",
      "z = np. polyfit(np.log(df1['POP DENSITY']), df1['CO2 density'], 3)\n",
      "f = np.poly1d(z)\n",
      "#x_new = np.linspace(min(df1['CO2 density']), max(df1['CO2 density']), 100)\n",
      "\n",
      "x_new = np.linspace(min(np.log(df1['POP DENSITY'])), max(np.log(df1['POP DENSITY'])), 100)\n",
      "y_new = f(x_new)"
     ],
     "language": "python",
     "metadata": {},
     "outputs": [
      {
       "output_type": "stream",
       "stream": "stdout",
       "text": [
        "0    11.748432\n",
        "1    11.702074\n",
        "2    13.682645\n",
        "3    13.476869\n",
        "4    11.746708\n",
        "Name: TOTAL POP IN MSA, dtype: float64\n"
       ]
      }
     ],
     "prompt_number": 55
    },
    {
     "cell_type": "code",
     "collapsed": false,
     "input": [
      "from math import log\n",
      "plt.scatter(np.log(df1['POP DENSITY']), df1['CO2 density'])#, '.b')\n",
      "\n",
      "plt.plot(np.log(df1['POP DENSITY']), df1['CO2 density'], 'o', x_new,y_new)\n",
      "plt.title('Plot of Carbon Emissions as Population Density of the MSA Increases')\n",
      "plt.xlabel('LOG Population Density')\n",
      "plt.ylabel('CO2 emission per person')\n",
      "plt.show()"
     ],
     "language": "python",
     "metadata": {},
     "outputs": [],
     "prompt_number": 57
    },
    {
     "cell_type": "code",
     "collapsed": false,
     "input": [],
     "language": "python",
     "metadata": {},
     "outputs": [],
     "prompt_number": 39
    },
    {
     "cell_type": "code",
     "collapsed": false,
     "input": [],
     "language": "python",
     "metadata": {},
     "outputs": [],
     "prompt_number": 4
    }
   ],
   "metadata": {}
  }
 ]
}