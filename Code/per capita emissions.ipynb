{
 "metadata": {
  "name": "",
  "signature": "sha256:f708687e25c1111fcff36cf5b64efcb9000f580c1c7291f25fde0508ba278649"
 },
 "nbformat": 3,
 "nbformat_minor": 0,
 "worksheets": [
  {
   "cells": [
    {
     "cell_type": "code",
     "collapsed": false,
     "input": [
      "import pandas as pd\n",
      "import matplotlib.pyplot as plt\n",
      "import sys\n",
      "plt.style.use('bmh')\n",
      "print plt.style.available\n"
     ],
     "language": "python",
     "metadata": {},
     "outputs": [
      {
       "output_type": "stream",
       "stream": "stdout",
       "text": [
        "[u'grayscale', u'bmh', u'dark_background', u'ggplot', u'fivethirtyeight']\n"
       ]
      },
      {
       "output_type": "stream",
       "stream": "stderr",
       "text": [
        "/home/rybo/anaconda/lib/python2.7/site-packages/setuptools-5.8-py2.7.egg/pkg_resources.py:1032: UserWarning: /home/rybo/.python-eggs is writable by group/others and vulnerable to attack when used with get_resource_filename. Consider a more secure location (set with .set_extraction_path or the PYTHON_EGG_CACHE environment variable).\n"
       ]
      }
     ],
     "prompt_number": 2
    },
    {
     "cell_type": "code",
     "collapsed": false,
     "input": [
      "df = pd.read_csv('final.csv')\n",
      "df['CO2 density'] = df['TOTAL CO2 IN MSA']/df['TOTAL POP IN MSA']*10000\n",
      "df1 = df[['POP DENSITY', 'TOTAL CO2 IN MSA', 'CO2/CAPITA', 'CO2 density', 'TOTAL POP IN MSA']]\n",
      "#print df.sort(['CO2 density'])['MSA NAME'].tail(100)\n",
      "print df.sort(['CO2 density'])['MSA NAME'].head(50)\n"
     ],
     "language": "python",
     "metadata": {},
     "outputs": [
      {
       "output_type": "stream",
       "stream": "stdout",
       "text": [
        "144                                    Mansfield, OH MSA\n",
        "110                                 Jacksonville, NC MSA\n",
        "43                               Chico--Paradise, CA MSA\n",
        "243                                       Yakima, WA MSA\n",
        "119                              Killeen--Temple, TX MSA\n",
        "95                                    Greenville, NC MSA\n",
        "161    Norfolk--Virginia Beach--Newport News, VA--NC MSA\n",
        "129                                       Laredo, TX MSA\n",
        "73                                  Fayetteville, NC MSA\n",
        "153                                      Modesto, CA MSA\n",
        "84                                        Fresno, CA MSA\n",
        "176                                  Provo--Orem, UT MSA\n",
        "70                           Eugene--Springfield, OR MSA\n",
        "210                                      Spokane, WA MSA\n",
        "65                                       El Paso, TX MSA\n",
        "233                 Visalia--Tulare--Porterville, CA MSA\n",
        "239                                Wichita Falls, TX MSA\n",
        "237                  West Palm Beach--Boca Raton, FL MSA\n",
        "51                                     Corvallis, OR MSA\n",
        "178                                  Punta Gorda, FL MSA\n",
        "145                   McAllen--Edinburg--Mission, TX MSA\n",
        "33                             Canton--Massillon, OH MSA\n",
        "172                                Phoenix--Mesa, AZ MSA\n",
        "227                                       Tucson, AZ MSA\n",
        "158                                       Naples, FL MSA\n",
        "196                                    San Diego, CA MSA\n",
        "113         Johnson City--Kingsport--Bristol, TN--VA MSA\n",
        "48                                  Columbus, GA--AL MSA\n",
        "27                                   Bloomington, IN MSA\n",
        "190                                  Rocky Mount, NC MSA\n",
        "44                 Clarksville--Hopkinsville, TN--KY MSA\n",
        "218                               Stockton--Lodi, CA MSA\n",
        "231                                  Utica--Rome, NY MSA\n",
        "219                                       Sumter, SC MSA\n",
        "103                                   Huntsville, AL MSA\n",
        "67                                        Elmira, NY MSA\n",
        "49                                      Columbus, OH MSA\n",
        "209                                   South Bend, IN MSA\n",
        "205                             Sherman--Denison, TX MSA\n",
        "241                                 Williamsport, PA MSA\n",
        "114                                    Johnstown, PA MSA\n",
        "162                                        Ocala, FL MSA\n",
        "69                                          Erie, PA MSA\n",
        "155                                   Montgomery, AL MSA\n",
        "202             Scranton--Wilkes-Barre--Hazleton, PA MSA\n",
        "184                   Richland--Kennewick--Pasco, WA MSA\n",
        "247                                         Yuma, AZ MSA\n",
        "3                                    Albuquerque, NM MSA\n",
        "105                                    Iowa City, IA MSA\n",
        "0                                        Abilene, TX MSA\n",
        "Name: MSA NAME, dtype: object\n"
       ]
      }
     ],
     "prompt_number": 16
    },
    {
     "cell_type": "code",
     "collapsed": false,
     "input": [
      "from sklearn.svm import SVR\n",
      "import numpy as np\n",
      "import statsmodels.api as sm\n",
      "print np.log(df1['TOTAL POP IN MSA']).head()\n",
      "#z = np. polyfit(df1['CO2 density'], np.log(df1['TOTAL POP IN MSA']),  3)\n",
      "\n",
      "z = np. polyfit(np.log(df1['POP DENSITY']), df1['CO2 density'], 3)\n",
      "f = np.poly1d(z)\n",
      "#x_new = np.linspace(min(df1['CO2 density']), max(df1['CO2 density']), 100)\n",
      "\n",
      "x_new = np.linspace(min(np.log(df1['POP DENSITY'])), max(np.log(df1['POP DENSITY'])), 100)\n",
      "y_new = f(x_new)"
     ],
     "language": "python",
     "metadata": {},
     "outputs": [
      {
       "output_type": "stream",
       "stream": "stdout",
       "text": [
        "0    11.748432\n",
        "1    11.702074\n",
        "2    13.682645\n",
        "3    13.476869\n",
        "4    11.746708\n",
        "Name: TOTAL POP IN MSA, dtype: float64\n"
       ]
      }
     ],
     "prompt_number": 47
    },
    {
     "cell_type": "code",
     "collapsed": false,
     "input": [
      "from math import log\n",
      "plt.scatter(np.log(df1['POP DENSITY']), df1['CO2 density'])#, '.b')\n",
      "\n",
      "plt.plot(np.log(df1['POP DENSITY']), df1['CO2 density'], 'o', x_new,y_new)\n",
      "plt.title('Plot of Carbon Emissions as Population Density of the MSA Increases')\n",
      "plt.xlabel('Population Density')\n",
      "plt.ylabel('CO2 emission per person')\n",
      "plt.show()"
     ],
     "language": "python",
     "metadata": {},
     "outputs": [],
     "prompt_number": 48
    },
    {
     "cell_type": "code",
     "collapsed": false,
     "input": [],
     "language": "python",
     "metadata": {},
     "outputs": [],
     "prompt_number": 25
    },
    {
     "cell_type": "code",
     "collapsed": false,
     "input": [],
     "language": "python",
     "metadata": {},
     "outputs": []
    }
   ],
   "metadata": {}
  }
 ]
}