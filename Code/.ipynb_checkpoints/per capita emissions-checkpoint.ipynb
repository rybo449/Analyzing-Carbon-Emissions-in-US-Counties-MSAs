{
 "metadata": {
  "name": "",
  "signature": "sha256:848266b185c21ecd31bf4aa2518912bc44e891f0273fcb7f0891ece53a99ba25"
 },
 "nbformat": 3,
 "nbformat_minor": 0,
 "worksheets": [
  {
   "cells": [
    {
     "cell_type": "code",
     "collapsed": false,
     "input": [
      "import pandas as pd\n",
      "import matplotlib.pyplot as plt\n",
      "import sys\n",
      "plt.style.use('bmh')\n",
      "print plt.style.available\n"
     ],
     "language": "python",
     "metadata": {},
     "outputs": [
      {
       "output_type": "stream",
       "stream": "stdout",
       "text": [
        "[u'grayscale', u'bmh', u'dark_background', u'ggplot', u'fivethirtyeight']\n"
       ]
      },
      {
       "output_type": "stream",
       "stream": "stderr",
       "text": [
        "/home/rybo/anaconda/lib/python2.7/site-packages/setuptools-5.8-py2.7.egg/pkg_resources.py:1032: UserWarning: /home/rybo/.python-eggs is writable by group/others and vulnerable to attack when used with get_resource_filename. Consider a more secure location (set with .set_extraction_path or the PYTHON_EGG_CACHE environment variable).\n"
       ]
      }
     ],
     "prompt_number": 1
    },
    {
     "cell_type": "code",
     "collapsed": false,
     "input": [
      "df = pd.read_csv('final.csv')\n",
      "df['CO2 density'] = df['TOTAL CO2 IN MSA']/df['TOTAL POP IN MSA']*1000000\n",
      "df1 = df[['POP DENSITY', 'TOTAL CO2 IN MSA', 'CO2/CAPITA', 'CO2 density', 'TOTAL POP IN MSA']]\n",
      "#print df.sort(['CO2 density'])['MSA NAME'].tail(100)\n",
      "print df.head(50)\n"
     ],
     "language": "python",
     "metadata": {},
     "outputs": [
      {
       "output_type": "stream",
       "stream": "stdout",
       "text": [
        "                                              MSA NAME  TOTAL POP IN MSA  \\\n",
        "144                                  Mansfield, OH MSA            367643   \n",
        "110                               Jacksonville, NC MSA            150355   \n",
        "43                             Chico--Paradise, CA MSA            203171   \n",
        "243                                     Yakima, WA MSA            222581   \n",
        "119                            Killeen--Temple, TX MSA            312952   \n",
        "95                                  Greenville, NC MSA            133798   \n",
        "161  Norfolk--Virginia Beach--Newport News, VA--NC MSA           3241306   \n",
        "129                                     Laredo, TX MSA            193117   \n",
        "73                                Fayetteville, NC MSA            302963   \n",
        "153                                    Modesto, CA MSA            446997   \n",
        "84                                      Fresno, CA MSA            922516   \n",
        "176                                Provo--Orem, UT MSA            368536   \n",
        "70                         Eugene--Springfield, OR MSA            322959   \n",
        "210                                    Spokane, WA MSA            417939   \n",
        "65                                     El Paso, TX MSA            679622   \n",
        "233               Visalia--Tulare--Porterville, CA MSA            368021   \n",
        "239                              Wichita Falls, TX MSA            140518   \n",
        "237                West Palm Beach--Boca Raton, FL MSA           1131184   \n",
        "51                                   Corvallis, OR MSA             78153   \n",
        "178                                Punta Gorda, FL MSA            141627   \n",
        "145                 McAllen--Edinburg--Mission, TX MSA            569463   \n",
        "33                           Canton--Massillon, OH MSA            406934   \n",
        "172                              Phoenix--Mesa, AZ MSA           3251876   \n",
        "227                                     Tucson, AZ MSA            843746   \n",
        "158                                     Naples, FL MSA            251377   \n",
        "196                                  San Diego, CA MSA           2813833   \n",
        "113       Johnson City--Kingsport--Bristol, TN--VA MSA            986967   \n",
        "48                                Columbus, GA--AL MSA            274624   \n",
        "27                                 Bloomington, IN MSA            120563   \n",
        "190                                Rocky Mount, NC MSA            143026   \n",
        "44               Clarksville--Hopkinsville, TN--KY MSA            207033   \n",
        "218                             Stockton--Lodi, CA MSA            563598   \n",
        "231                                Utica--Rome, NY MSA            299896   \n",
        "219                                     Sumter, SC MSA            104646   \n",
        "103                                 Huntsville, AL MSA            342376   \n",
        "67                                      Elmira, NY MSA             91070   \n",
        "49                                    Columbus, OH MSA           1591781   \n",
        "209                                 South Bend, IN MSA            265559   \n",
        "205                           Sherman--Denison, TX MSA            110595   \n",
        "241                               Williamsport, PA MSA            120044   \n",
        "114                                  Johnstown, PA MSA            232621   \n",
        "162                                      Ocala, FL MSA            258916   \n",
        "69                                        Erie, PA MSA            280843   \n",
        "155                                 Montgomery, AL MSA            333055   \n",
        "202           Scranton--Wilkes-Barre--Hazleton, PA MSA            624776   \n",
        "184                 Richland--Kennewick--Pasco, WA MSA            163738   \n",
        "247                                       Yuma, AZ MSA            160026   \n",
        "3                                  Albuquerque, NM MSA            712738   \n",
        "105                                  Iowa City, IA MSA            111006   \n",
        "0                                      Abilene, TX MSA            126555   \n",
        "\n",
        "     TOTAL CO2 IN MSA  TOTAL LAND IN MSA  POP DENSITY  CO2/CAPITA  CO2 density  \n",
        "144          0.470228           898.9903   408.951020    0.000001     1.279035  \n",
        "110          0.248845           766.8181   196.076488    0.000002     1.655049  \n",
        "43           0.387643          1639.4880   123.923444    0.000002     1.907964  \n",
        "243          0.427474          4296.2290    51.808458    0.000002     1.920533  \n",
        "119          0.629575          2111.4840   148.214242    0.000002     2.011730  \n",
        "95           0.272602           651.5767   205.344973    0.000002     2.037413  \n",
        "161          6.629186          2348.4860  1380.168330    0.000002     2.045221  \n",
        "129          0.407319          3356.8330    57.529523    0.000002     2.109183  \n",
        "73           0.639860           652.7164   464.157175    0.000002     2.112006  \n",
        "153          0.987372          1493.7910   299.236640    0.000002     2.208901  \n",
        "84           2.106239          8098.5870   113.910735    0.000002     2.283146  \n",
        "176          0.849908          1998.3320   184.421808    0.000002     2.306175  \n",
        "70           0.751252          4554.0040    70.917593    0.000002     2.326152  \n",
        "210          0.987783          1763.6360   236.975771    0.000002     2.363463  \n",
        "65           1.616575          1013.1060   670.830101    0.000002     2.378639  \n",
        "233          0.878964          4823.9680    76.290100    0.000002     2.388352  \n",
        "239          0.336879          1537.3620    91.402025    0.000002     2.397410  \n",
        "237          2.760300          1974.1070   573.010480    0.000002     2.440187  \n",
        "51           0.190717           676.4613   115.532108    0.000002     2.440306  \n",
        "178          0.353633           693.6038   204.190058    0.000002     2.496935  \n",
        "145          1.438398          1569.7460   362.773977    0.000003     2.525886  \n",
        "33           1.048663           970.8093   419.169862    0.000003     2.576985  \n",
        "172          8.441516         14572.7300   223.148031    0.000003     2.595891  \n",
        "227          2.195879          9186.2650    91.848646    0.000003     2.602536  \n",
        "158          0.664622          2025.3410   124.115890    0.000003     2.643924  \n",
        "196          7.446142          4199.8910   669.977626    0.000003     2.646263  \n",
        "113          2.622721          2865.5090   344.429908    0.000003     2.657355  \n",
        "48           0.730839          1570.0370   174.915623    0.000003     2.661235  \n",
        "27           0.320879           394.3462   305.728824    0.000003     2.661504  \n",
        "190          0.382274          1045.2950   136.828359    0.000003     2.672758  \n",
        "44           0.554943          1260.5920   164.234741    0.000003     2.680455  \n",
        "218          1.526506          1399.2820   402.776567    0.000003     2.708501  \n",
        "231          0.814247          2623.9530   114.291681    0.000003     2.715097  \n",
        "219          0.285835           665.4079   157.265942    0.000003     2.731452  \n",
        "103          0.944687          1372.9720   249.368523    0.000003     2.759208  \n",
        "67           0.252854           408.1699   223.117873    0.000003     2.776476  \n",
        "49           4.470274          3141.2430   506.736028    0.000003     2.808347  \n",
        "209          0.763349           457.3406   580.659141    0.000003     2.874501  \n",
        "205          0.318174           933.5124   118.471913    0.000003     2.876928  \n",
        "241          0.346583          1234.8530    97.213191    0.000003     2.887133  \n",
        "114          0.676709          1762.6820   131.969919    0.000003     2.909062  \n",
        "162          0.754983          1578.8580   163.989415    0.000003     2.915938  \n",
        "69           0.821708           801.9478   350.201098    0.000003     2.925864  \n",
        "155          0.975632          2006.9870   165.947761    0.000003     2.929342  \n",
        "202          1.834487          2232.1880   279.893987    0.000003     2.936231  \n",
        "184          0.488472          2945.4930    55.589336    0.000003     2.983251  \n",
        "247          0.478014          5514.0890    29.021294    0.000003     2.987100  \n",
        "3            2.141536          5943.0000   119.928992    0.000003     3.004661  \n",
        "105          0.334785           614.4792   180.650541    0.000003     3.015917  \n",
        "0            0.382555           915.6259   138.216929    0.000003     3.022838  \n"
       ]
      }
     ],
     "prompt_number": 6
    },
    {
     "cell_type": "code",
     "collapsed": false,
     "input": [
      "from sklearn.svm import SVR\n",
      "import numpy as np\n",
      "import statsmodels.api as sm\n",
      "print np.log(df1['TOTAL POP IN MSA']).head()\n",
      "#z = np. polyfit(df1['CO2 density'], np.log(df1['TOTAL POP IN MSA']),  3)\n",
      "\n",
      "z = np. polyfit(np.log(df1['POP DENSITY']), df1['CO2 density'], 3)\n",
      "f = np.poly1d(z)\n",
      "#x_new = np.linspace(min(df1['CO2 density']), max(df1['CO2 density']), 100)\n",
      "\n",
      "x_new = np.linspace(min(np.log(df1['POP DENSITY'])), max(np.log(df1['POP DENSITY'])), 100)\n",
      "y_new = f(x_new)"
     ],
     "language": "python",
     "metadata": {},
     "outputs": [
      {
       "output_type": "stream",
       "stream": "stdout",
       "text": [
        "0    11.748432\n",
        "1    11.702074\n",
        "2    13.682645\n",
        "3    13.476869\n",
        "4    11.746708\n",
        "Name: TOTAL POP IN MSA, dtype: float64\n"
       ]
      }
     ],
     "prompt_number": 3
    },
    {
     "cell_type": "code",
     "collapsed": false,
     "input": [
      "from math import log\n",
      "plt.scatter(np.log(df1['POP DENSITY']), df1['CO2 density'])#, '.b')\n",
      "\n",
      "plt.plot(np.log(df1['POP DENSITY']), df1['CO2 density'], 'o', x_new,y_new)\n",
      "plt.title('Plot of Carbon Emissions as Population Density of the MSA Increases')\n",
      "plt.xlabel('Population Density')\n",
      "plt.ylabel('CO2 emission per person')\n",
      "plt.show()"
     ],
     "language": "python",
     "metadata": {},
     "outputs": [],
     "prompt_number": 4
    },
    {
     "cell_type": "code",
     "collapsed": false,
     "input": [],
     "language": "python",
     "metadata": {},
     "outputs": [],
     "prompt_number": 4
    },
    {
     "cell_type": "code",
     "collapsed": false,
     "input": [],
     "language": "python",
     "metadata": {},
     "outputs": [],
     "prompt_number": 4
    }
   ],
   "metadata": {}
  }
 ]
}